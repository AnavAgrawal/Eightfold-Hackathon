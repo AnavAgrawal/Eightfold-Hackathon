{
 "cells": [
  {
   "cell_type": "code",
   "execution_count": 1,
   "metadata": {},
   "outputs": [
    {
     "name": "stderr",
     "output_type": "stream",
     "text": [
      "c:\\Users\\Anav Agrawal\\Desktop\\Anav\\Code\\Eightfold Hackathon\\myenv\\lib\\site-packages\\tqdm\\auto.py:21: TqdmWarning: IProgress not found. Please update jupyter and ipywidgets. See https://ipywidgets.readthedocs.io/en/stable/user_install.html\n",
      "  from .autonotebook import tqdm as notebook_tqdm\n"
     ]
    }
   ],
   "source": [
    "import fitz\n",
    "import tkinter as tk\n",
    "from tkinter import filedialog, messagebox\n",
    "from tkinter import ttk\n",
    "# from pdf2image import convert_from_bytes\n",
    "# from PIL import Image, ImageTk\n",
    "from transformers import pipeline\n",
    "from PIL import Image, ImageTk\n",
    "\n",
    "\n",
    "# # Function to display PDF file\n",
    "# def display_pdf(pdf_file):\n",
    "#     doc = fitz.open(pdf_file)\n",
    "#     for page in doc:\n",
    "#         img = convert_from_bytes(page.get_page_bytes(), dpi=100)[0]\n",
    "#         img = ImageTk.PhotoImage(img)\n",
    "#         label = ttk.Label(frame_pdf_viewer, image=img)\n",
    "#         label.image = img\n",
    "#         label.pack(padx=10, pady=10)"
   ]
  },
  {
   "cell_type": "code",
   "execution_count": 2,
   "metadata": {},
   "outputs": [
    {
     "name": "stderr",
     "output_type": "stream",
     "text": [
      "Some weights of the model checkpoint at google-bert/bert-large-uncased-whole-word-masking-finetuned-squad were not used when initializing BertForQuestionAnswering: ['bert.pooler.dense.bias', 'bert.pooler.dense.weight']\n",
      "- This IS expected if you are initializing BertForQuestionAnswering from the checkpoint of a model trained on another task or with another architecture (e.g. initializing a BertForSequenceClassification model from a BertForPreTraining model).\n",
      "- This IS NOT expected if you are initializing BertForQuestionAnswering from the checkpoint of a model that you expect to be exactly identical (initializing a BertForSequenceClassification model from a BertForSequenceClassification model).\n"
     ]
    }
   ],
   "source": [
    "# Initializing the model\n",
    "# oracle = pipeline(model=\"deepset/roberta-base-squad2\")\n",
    "oracle = pipeline(\"question-answering\", model=\"deepset/roberta-base-squad2\")\n",
    "# mdeberta = pipeline(\"question-answering\", \"timpal0l/mdeberta-v3-base-squad2\")\n",
    "whole_word = pipeline(\"question-answering\", model=\"google-bert/bert-large-uncased-whole-word-masking-finetuned-squad\")\n"
   ]
  },
  {
   "cell_type": "code",
   "execution_count": 8,
   "metadata": {},
   "outputs": [],
   "source": [
    "models = [oracle]\n",
    "file_name_counter = 0"
   ]
  },
  {
   "cell_type": "code",
   "execution_count": 9,
   "metadata": {},
   "outputs": [],
   "source": [
    "# Function to convert PDF to text\n",
    "def pdf_to_text(pdf_file):\n",
    "    text = \"\"\n",
    "    with fitz.open(pdf_file) as doc:\n",
    "        for page in doc:\n",
    "            text += page.get_text()\n",
    "    return text\n",
    "\n",
    "# Function to find and highlight the relevant texts in the pdf file \n",
    "def highlight_pdf(relevant_texts, pdf_file,model_index):\n",
    "    global file_name_counter\n",
    "    doc = fitz.open(pdf_file)\n",
    "    for page in doc:\n",
    "        for text in relevant_texts:\n",
    "            if len(text) < 3:\n",
    "                print('skipping')\n",
    "                continue\n",
    "            text_instances = page.search_for(text)\n",
    "            for inst in text_instances:\n",
    "                highlight = page.add_highlight_annot(inst)\n",
    "                highlight.update()\n",
    "    doc.save(f'Model{model_index}_{file_name_counter}.pdf')\n",
    "    doc.close()\n",
    "    file_name_counter += 1\n",
    "\n",
    "def display_modified_pdf(pdf_file):\n",
    "    doc = fitz.open(pdf_file)\n",
    "    zoom = 1.0  # Adjust the zoom level as needed\n",
    "    mat = fitz.Matrix(zoom, zoom)\n",
    "\n",
    "    for page_index in range(doc.page_count):\n",
    "        page = doc.load_page(page_index)\n",
    "        pix = page.get_pixmap(matrix=mat)\n",
    "        image = Image.frombytes(\"RGB\", [pix.width, pix.height], pix.samples)\n",
    "        photo_image = ImageTk.PhotoImage(image)\n",
    "        label = ttk.Label(frame_pdf_viewer, image=photo_image)\n",
    "        label.image = photo_image\n",
    "        label.pack(padx=10, pady=10)\n"
   ]
  },
  {
   "cell_type": "code",
   "execution_count": 5,
   "metadata": {},
   "outputs": [],
   "source": [
    "# Function to run machine learning model\n",
    "def run_model(text, prompt,model):\n",
    "   # Placeholder for your machine learning model\n",
    "   # Replace this with your actual model code\n",
    "   all_relevant_texts = model(question= prompt, context=text,\n",
    "      top_k=20)\n",
    "   for line in all_relevant_texts:\n",
    "      print(line)\n",
    "   #  print('the answer given is ', all_relevant_texts['answer'])\n",
    "   return all_relevant_texts"
   ]
  },
  {
   "cell_type": "code",
   "execution_count": 10,
   "metadata": {},
   "outputs": [],
   "source": [
    "# Function to handle button click event\n",
    "def submit_clicked():\n",
    "    global resume_text \n",
    "    pdf_file = entry_pdf.get()\n",
    "    prompt = entry_prompt.get()\n",
    "\n",
    "    if pdf_file == \"\":\n",
    "        messagebox.showerror(\"Error\", \"Please select a PDF file\")\n",
    "        return\n",
    "    \n",
    "    if prompt == \"\":\n",
    "        messagebox.showerror(\"Error\", \"Please enter a prompt\")\n",
    "        return\n",
    "    \n",
    "    # Convert PDF to text\n",
    "    text = pdf_to_text(pdf_file)\n",
    "    resume_text = text\n",
    "    # print(text)\n",
    "    \n",
    "    # Run models\n",
    "    for index,model in enumerate(models) :\n",
    "        model_returns = run_model(text, prompt,model)\n",
    "        # relevant_texts = ['team','to detail and']\n",
    "    \n",
    "        relevant_texts = set()\n",
    "        for answer in model_returns:\n",
    "            phrases = answer['answer'].split('\\n')\n",
    "            for phrase in phrases:\n",
    "                if len(phrase) >= 3:\n",
    "                    relevant_texts.add(phrase)\n",
    "                    \n",
    "        relevant_texts = list(relevant_texts)\n",
    "        print('Passing the relevant texts to highlight: ', relevant_texts)\n",
    "        highlight_pdf(relevant_texts, pdf_file,index)\n",
    "    # Save modified text to a new PDF file\n",
    "    # Here you would write code to create a new PDF from modified_text\n",
    "\n",
    "    # Display the modified PDF in the UI\n",
    "    for widget in frame_pdf_viewer.winfo_children():\n",
    "        widget.destroy()\n",
    "    display_modified_pdf(modified_pdf_file) \n",
    "      \n",
    "    # Display the modified PDF file\n",
    "    # display_pdf(pdf_file)"
   ]
  },
  {
   "cell_type": "code",
   "execution_count": 7,
   "metadata": {},
   "outputs": [
    {
     "name": "stdout",
     "output_type": "stream",
     "text": [
      "{'score': 0.00021333503536880016, 'start': 1439, 'end': 1453, 'answer': '13-hour event\\n'}\n",
      "{'score': 6.471630331361666e-05, 'start': 216, 'end': 244, 'answer': '\\nRELEVANT EXPERIENCE\\nIntern\\n'}\n",
      "{'score': 5.44532376807183e-05, 'start': 1238, 'end': 1286, 'answer': 'LEADERSHIP EXPERIENCE\\nPhilanthropy Events Chair\\n'}\n",
      "{'score': 4.995187191525474e-05, 'start': 1260, 'end': 1286, 'answer': 'Philanthropy Events Chair\\n'}\n",
      "{'score': 4.793393236468546e-05, 'start': 1238, 'end': 1285, 'answer': 'LEADERSHIP EXPERIENCE\\nPhilanthropy Events Chair'}\n",
      "{'score': 4.3971485865768045e-05, 'start': 1260, 'end': 1285, 'answer': 'Philanthropy Events Chair'}\n",
      "{'score': 3.75119416275993e-05, 'start': 216, 'end': 217, 'answer': '\\n'}\n",
      "{'score': 2.8752032449119724e-05, 'start': 91, 'end': 127, 'answer': 'Bachelor of Arts in Criminal Justice'}\n",
      "{'score': 2.7860785849043168e-05, 'start': 1439, 'end': 1446, 'answer': '13-hour'}\n",
      "{'score': 2.5122864826698788e-05, 'start': 1439, 'end': 1452, 'answer': '13-hour event'}\n",
      "{'score': 2.505342308722902e-05, 'start': 1064, 'end': 1065, 'answer': '●'}\n",
      "{'score': 2.3201642761705443e-05, 'start': 1064, 'end': 1091, 'answer': '●\\nWorked 20+ hours per week'}\n",
      "{'score': 2.2764903405914083e-05, 'start': 1439, 'end': 1454, 'answer': '13-hour event\\n●'}\n",
      "{'score': 2.2364289179677144e-05, 'start': 1150, 'end': 1151, 'answer': '●'}\n",
      "{'score': 2.2284959413809702e-05, 'start': 91, 'end': 128, 'answer': 'Bachelor of Arts in Criminal Justice\\n'}\n",
      "{'score': 2.168097489629872e-05, 'start': 90, 'end': 127, 'answer': '\\nBachelor of Arts in Criminal Justice'}\n",
      "{'score': 2.1613534045172855e-05, 'start': 1600, 'end': 1628, 'answer': 'Al’s Pals Mentorship Program'}\n",
      "{'score': 2.158804090868216e-05, 'start': 967, 'end': 1017, 'answer': '●\\nPromoted from runner to administrative assistant'}\n",
      "{'score': 2.1302019376889803e-05, 'start': 80, 'end': 127, 'answer': '\\nEDUCATION\\nBachelor of Arts in Criminal Justice'}\n",
      "{'score': 2.0959498215233907e-05, 'start': 1447, 'end': 1453, 'answer': 'event\\n'}\n",
      "Passing the relevant texts to highlight:  ['Bachelor of Arts in Criminal Justice', 'Al’s Pals Mentorship Program', 'event', 'Intern', 'RELEVANT EXPERIENCE', 'Worked 20+ hours per week', 'Promoted from runner to administrative assistant', 'LEADERSHIP EXPERIENCE', 'Philanthropy Events Chair', 'EDUCATION', '13-hour event', '13-hour']\n",
      "{'score': 0.3154975473880768, 'start': 1844, 'end': 1887, 'answer': 'Dean’s List, 3 semesters; James H. Morrison'}\n",
      "{'score': 0.07322018593549728, 'start': 1844, 'end': 1868, 'answer': 'Dean’s List, 3 semesters'}\n",
      "{'score': 0.025339484214782715, 'start': 1870, 'end': 1887, 'answer': 'James H. Morrison'}\n",
      "{'score': 0.010869970545172691, 'start': 1844, 'end': 1855, 'answer': 'Dean’s List'}\n",
      "{'score': 0.009440800175070763, 'start': 1828, 'end': 1868, 'answer': 'AWARDS & HONORS\\nDean’s List, 3 semesters'}\n",
      "{'score': 0.008129545487463474, 'start': 2025, 'end': 2073, 'answer': 'Microsoft Office Suite (Excel, PowerPoint, Word)'}\n",
      "{'score': 0.006795941852033138, 'start': 1857, 'end': 1887, 'answer': '3 semesters; James H. Morrison'}\n",
      "{'score': 0.005217001773416996, 'start': 1888, 'end': 1932, 'answer': 'Excellence in Government Endowed Scholarship'}\n",
      "{'score': 0.003529507666826248, 'start': 1888, 'end': 1954, 'answer': 'Excellence in Government Endowed Scholarship\\nSERVICE & INVOLVEMENT'}\n",
      "{'score': 0.0035175024531781673, 'start': 2025, 'end': 2047, 'answer': 'Microsoft Office Suite'}\n",
      "{'score': 0.0031531057320535183, 'start': 2025, 'end': 2072, 'answer': 'Microsoft Office Suite (Excel, PowerPoint, Word'}\n",
      "{'score': 0.0029360780026763678, 'start': 1870, 'end': 1932, 'answer': 'James H. Morrison Excellence in Government Endowed Scholarship'}\n",
      "{'score': 0.0019863725174218416, 'start': 1870, 'end': 1954, 'answer': 'James H. Morrison Excellence in Government Endowed Scholarship\\nSERVICE & INVOLVEMENT'}\n",
      "{'score': 0.00196172040887177, 'start': 1844, 'end': 1869, 'answer': 'Dean’s List, 3 semesters;'}\n",
      "{'score': 0.0019504318479448557, 'start': 1837, 'end': 1887, 'answer': 'HONORS\\nDean’s List, 3 semesters; James H. Morrison'}\n",
      "{'score': 0.00188771344255656, 'start': 1844, 'end': 1855, 'answer': 'Dean’s List'}\n",
      "{'score': 0.0015771916368976235, 'start': 1857, 'end': 1868, 'answer': '3 semesters'}\n",
      "{'score': 0.0014015426859259605, 'start': 1828, 'end': 1855, 'answer': 'AWARDS & HONORS\\nDean’s List'}\n",
      "{'score': 0.0010530402651056647, 'start': 1828, 'end': 1855, 'answer': 'AWARDS & HONORS\\nDean’s List'}\n",
      "{'score': 0.000996022718027234, 'start': 1888, 'end': 1912, 'answer': 'Excellence in Government'}\n",
      "Passing the relevant texts to highlight:  ['Microsoft Office Suite (Excel, PowerPoint, Word)', 'SERVICE & INVOLVEMENT', '3 semesters; James H. Morrison', 'Excellence in Government', 'AWARDS & HONORS', 'Dean’s List, 3 semesters', 'James H. Morrison', 'James H. Morrison Excellence in Government Endowed Scholarship', 'Microsoft Office Suite (Excel, PowerPoint, Word', 'HONORS', 'Dean’s List, 3 semesters; James H. Morrison', 'Dean’s List', 'Dean’s List, 3 semesters;', 'Microsoft Office Suite', '3 semesters', 'Excellence in Government Endowed Scholarship']\n"
     ]
    }
   ],
   "source": [
    "# Creating the GUI \n",
    "\n",
    "# Create main window\n",
    "root = tk.Tk()\n",
    "root.title(\"PDF Modifier\")\n",
    "\n",
    "# Create style\n",
    "style = ttk.Style(root)\n",
    "style.theme_use(\"clam\")\n",
    "\n",
    "# Create widgets\n",
    "label_pdf = ttk.Label(root, text=\"PDF File:\")\n",
    "label_pdf.grid(row=0, column=0, padx=5, pady=5, sticky=\"w\")\n",
    "entry_pdf = ttk.Entry(root, width=40)\n",
    "entry_pdf.grid(row=0, column=1, padx=5, pady=5)\n",
    "button_browse = ttk.Button(root, text=\"Browse\", command=lambda: entry_pdf.insert(tk.END, filedialog.askopenfilename()))\n",
    "button_browse.grid(row=0, column=2, padx=5, pady=5)\n",
    "\n",
    "label_prompt = ttk.Label(root, text=\"Prompt:\")\n",
    "label_prompt.grid(row=1, column=0, padx=5, pady=5, sticky=\"w\")\n",
    "entry_prompt = ttk.Entry(root, width=40)\n",
    "entry_prompt.grid(row=1, column=1, padx=5, pady=5)\n",
    "\n",
    "button_submit = ttk.Button(root, text=\"Submit\", command=submit_clicked)\n",
    "button_submit.grid(row=2, column=1, padx=5, pady=5)\n",
    "\n",
    "# PDF Viewer Frame\n",
    "frame_pdf_viewer = tk.Frame(root)\n",
    "frame_pdf_viewer.grid(row=3, columnspan=3, padx=10, pady=10)\n",
    "\n",
    "# Run the Tkinter event loop\n",
    "root.mainloop()\n"
   ]
  },
  {
   "cell_type": "code",
   "execution_count": 36,
   "metadata": {},
   "outputs": [
    {
     "name": "stdout",
     "output_type": "stream",
     "text": [
      "{'score': 0.0018495976692065597, 'start': 108, 'end': 152, 'answer': 'Bachelor of Arts in Marketing; Spanish minor'}\n",
      "{'score': 0.0014535044319927692, 'start': 2756, 'end': 2758, 'answer': '\\nH'}\n",
      "{'score': 0.0014326439704746008, 'start': 1544, 'end': 1556, 'answer': 'Olive Garden'}\n",
      "{'score': 0.0009395668748766184, 'start': 108, 'end': 124, 'answer': 'Bachelor of Arts'}\n",
      "{'score': 0.0008295539300888777, 'start': 139, 'end': 152, 'answer': 'Spanish minor'}\n",
      "{'score': 0.0008050044998526573, 'start': 1544, 'end': 1557, 'answer': 'Olive Garden\\n'}\n",
      "{'score': 0.0006648484850302339, 'start': 2692, 'end': 2758, 'answer': 'Southeastern Marketing Association, Member\\nAugust 2019 – Present\\nH'}\n",
      "{'score': 0.0006501433090306818, 'start': 108, 'end': 137, 'answer': 'Bachelor of Arts in Marketing'}\n",
      "{'score': 0.0006339185638353229, 'start': 2692, 'end': 2726, 'answer': 'Southeastern Marketing Association'}\n",
      "{'score': 0.0005308256368152797, 'start': 206, 'end': 244, 'answer': '\\nRELEVANT EXPERIENCE\\nMarketing Intern\\n'}\n"
     ]
    }
   ],
   "source": [
    "prompt = 'what are some things related to marketing?'\n",
    "returns = run_model(resume_text, prompt)\n",
    "# print(returns)"
   ]
  },
  {
   "cell_type": "code",
   "execution_count": null,
   "metadata": {},
   "outputs": [],
   "source": []
  }
 ],
 "metadata": {
  "kernelspec": {
   "display_name": "myenv",
   "language": "python",
   "name": "python3"
  },
  "language_info": {
   "codemirror_mode": {
    "name": "ipython",
    "version": 3
   },
   "file_extension": ".py",
   "mimetype": "text/x-python",
   "name": "python",
   "nbconvert_exporter": "python",
   "pygments_lexer": "ipython3",
   "version": "3.10.11"
  }
 },
 "nbformat": 4,
 "nbformat_minor": 2
}
